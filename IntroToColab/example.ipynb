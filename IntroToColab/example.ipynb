**How to save this notebook to your personal Drive**

To copy this notebook to your Google Drive, go to File and select "Save a copy in Drive", where it will automatically open the copy in a new tab for you to work in. This notebook will be saved into a folder on your personal Drive called "Colab Notebooks".


# My Header

My description

from IPython.display import Image
Image(url='https://skylinecollege.edu/mcpr/images/logos/png/skyline_logo_cmyk_noTag.png',width=600)


Try adding your own text or code...




